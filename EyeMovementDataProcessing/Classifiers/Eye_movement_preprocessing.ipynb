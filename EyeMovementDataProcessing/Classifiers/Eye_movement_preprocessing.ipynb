{
 "cells": [
  {
   "cell_type": "code",
   "execution_count": 331,
   "metadata": {},
   "outputs": [],
   "source": [
    "%matplotlib inline\n",
    "\n",
    "from __future__ import print_function\n",
    "from __future__ import division\n",
    "\n",
    "import pandas as pd\n",
    "import numpy as np\n",
    "\n",
    "import matplotlib as mpl\n",
    "import matplotlib.pyplot as plt\n",
    "import seaborn as sns\n",
    "\n",
    "from sklearn.model_selection import train_test_split\n",
    "import statsmodels.api as sm\n",
    "\n",
    "# just for the sake of this blog post!\n",
    "from warnings import filterwarnings\n",
    "filterwarnings('ignore')\n",
    "\n",
    "# load the provided data\n",
    "train_features = pd.read_csv('VarianceHandledDataset.csv',index_col=[0])\n",
    "\n",
    "nn=train_features.isnull().sum()/len(train_features)"
   ]
  },
  {
   "cell_type": "code",
   "execution_count": 332,
   "metadata": {},
   "outputs": [
    {
     "data": {
      "text/html": [
       "<div>\n",
       "<style scoped>\n",
       "    .dataframe tbody tr th:only-of-type {\n",
       "        vertical-align: middle;\n",
       "    }\n",
       "\n",
       "    .dataframe tbody tr th {\n",
       "        vertical-align: top;\n",
       "    }\n",
       "\n",
       "    .dataframe thead th {\n",
       "        text-align: right;\n",
       "    }\n",
       "</style>\n",
       "<table border=\"1\" class=\"dataframe\">\n",
       "  <thead>\n",
       "    <tr style=\"text-align: right;\">\n",
       "      <th></th>\n",
       "      <th>Gender</th>\n",
       "      <th>NumberOfFixations</th>\n",
       "      <th>FixationDuration(ms)</th>\n",
       "      <th>FixationDurationAvg(ms)</th>\n",
       "      <th>FixationDurationStd(ms)</th>\n",
       "      <th>NumberOfSaccades</th>\n",
       "      <th>SaccadeDuration(ms)</th>\n",
       "      <th>SaccadeDurationAvg(ms)</th>\n",
       "      <th>SaccadesDurationStd(ms)</th>\n",
       "      <th>GazePointX(ADCSpx)</th>\n",
       "      <th>GazePointY(ADCSpx)</th>\n",
       "      <th>PupilDiameterLeft(mm)</th>\n",
       "      <th>PupilDiameterRight(mm)</th>\n",
       "      <th>Class</th>\n",
       "    </tr>\n",
       "    <tr>\n",
       "      <th>ParticipantID</th>\n",
       "      <th></th>\n",
       "      <th></th>\n",
       "      <th></th>\n",
       "      <th></th>\n",
       "      <th></th>\n",
       "      <th></th>\n",
       "      <th></th>\n",
       "      <th></th>\n",
       "      <th></th>\n",
       "      <th></th>\n",
       "      <th></th>\n",
       "      <th></th>\n",
       "      <th></th>\n",
       "      <th></th>\n",
       "    </tr>\n",
       "  </thead>\n",
       "  <tbody>\n",
       "    <tr>\n",
       "      <th>003ADHDETWM</th>\n",
       "      <td>female</td>\n",
       "      <td>-0.184230</td>\n",
       "      <td>-0.197407</td>\n",
       "      <td>0.034763</td>\n",
       "      <td>-0.281520</td>\n",
       "      <td>-0.714749</td>\n",
       "      <td>-0.373633</td>\n",
       "      <td>-0.798927</td>\n",
       "      <td>-0.445699</td>\n",
       "      <td>-1.118040</td>\n",
       "      <td>-0.490957</td>\n",
       "      <td>-0.873751</td>\n",
       "      <td>-0.259639</td>\n",
       "      <td>Non-ADHD</td>\n",
       "    </tr>\n",
       "    <tr>\n",
       "      <th>003ADHDETWM</th>\n",
       "      <td>female</td>\n",
       "      <td>0.044121</td>\n",
       "      <td>-0.131856</td>\n",
       "      <td>0.360355</td>\n",
       "      <td>0.352504</td>\n",
       "      <td>-0.714749</td>\n",
       "      <td>-0.373633</td>\n",
       "      <td>-0.798927</td>\n",
       "      <td>-0.445699</td>\n",
       "      <td>-0.729539</td>\n",
       "      <td>-0.060831</td>\n",
       "      <td>-1.460183</td>\n",
       "      <td>0.096370</td>\n",
       "      <td>Non-ADHD</td>\n",
       "    </tr>\n",
       "    <tr>\n",
       "      <th>003ADHDETWM</th>\n",
       "      <td>female</td>\n",
       "      <td>-0.155686</td>\n",
       "      <td>-0.188350</td>\n",
       "      <td>0.153160</td>\n",
       "      <td>-0.281520</td>\n",
       "      <td>-0.714749</td>\n",
       "      <td>-0.373633</td>\n",
       "      <td>-0.798927</td>\n",
       "      <td>-0.445699</td>\n",
       "      <td>0.053548</td>\n",
       "      <td>0.558789</td>\n",
       "      <td>-1.084811</td>\n",
       "      <td>0.393743</td>\n",
       "      <td>Non-ADHD</td>\n",
       "    </tr>\n",
       "    <tr>\n",
       "      <th>003ADHDETWM</th>\n",
       "      <td>female</td>\n",
       "      <td>-0.155686</td>\n",
       "      <td>-0.188350</td>\n",
       "      <td>0.153160</td>\n",
       "      <td>-0.281520</td>\n",
       "      <td>-0.714749</td>\n",
       "      <td>-0.373633</td>\n",
       "      <td>-0.798927</td>\n",
       "      <td>-0.445699</td>\n",
       "      <td>0.059165</td>\n",
       "      <td>-0.085282</td>\n",
       "      <td>-1.131467</td>\n",
       "      <td>-0.347129</td>\n",
       "      <td>Non-ADHD</td>\n",
       "    </tr>\n",
       "    <tr>\n",
       "      <th>003ADHDETWM</th>\n",
       "      <td>female</td>\n",
       "      <td>0.443734</td>\n",
       "      <td>0.134907</td>\n",
       "      <td>1.150429</td>\n",
       "      <td>0.045810</td>\n",
       "      <td>-0.714749</td>\n",
       "      <td>-0.373633</td>\n",
       "      <td>-0.798927</td>\n",
       "      <td>-0.445699</td>\n",
       "      <td>-0.977438</td>\n",
       "      <td>0.317056</td>\n",
       "      <td>-0.540392</td>\n",
       "      <td>0.291647</td>\n",
       "      <td>Non-ADHD</td>\n",
       "    </tr>\n",
       "  </tbody>\n",
       "</table>\n",
       "</div>"
      ],
      "text/plain": [
       "               Gender  NumberOfFixations  FixationDuration(ms)  \\\n",
       "ParticipantID                                                    \n",
       "003ADHDETWM    female          -0.184230             -0.197407   \n",
       "003ADHDETWM    female           0.044121             -0.131856   \n",
       "003ADHDETWM    female          -0.155686             -0.188350   \n",
       "003ADHDETWM    female          -0.155686             -0.188350   \n",
       "003ADHDETWM    female           0.443734              0.134907   \n",
       "\n",
       "               FixationDurationAvg(ms)  FixationDurationStd(ms)  \\\n",
       "ParticipantID                                                     \n",
       "003ADHDETWM                   0.034763                -0.281520   \n",
       "003ADHDETWM                   0.360355                 0.352504   \n",
       "003ADHDETWM                   0.153160                -0.281520   \n",
       "003ADHDETWM                   0.153160                -0.281520   \n",
       "003ADHDETWM                   1.150429                 0.045810   \n",
       "\n",
       "               NumberOfSaccades  SaccadeDuration(ms)  SaccadeDurationAvg(ms)  \\\n",
       "ParticipantID                                                                  \n",
       "003ADHDETWM           -0.714749            -0.373633               -0.798927   \n",
       "003ADHDETWM           -0.714749            -0.373633               -0.798927   \n",
       "003ADHDETWM           -0.714749            -0.373633               -0.798927   \n",
       "003ADHDETWM           -0.714749            -0.373633               -0.798927   \n",
       "003ADHDETWM           -0.714749            -0.373633               -0.798927   \n",
       "\n",
       "               SaccadesDurationStd(ms)  GazePointX(ADCSpx)  \\\n",
       "ParticipantID                                                \n",
       "003ADHDETWM                  -0.445699           -1.118040   \n",
       "003ADHDETWM                  -0.445699           -0.729539   \n",
       "003ADHDETWM                  -0.445699            0.053548   \n",
       "003ADHDETWM                  -0.445699            0.059165   \n",
       "003ADHDETWM                  -0.445699           -0.977438   \n",
       "\n",
       "               GazePointY(ADCSpx)  PupilDiameterLeft(mm)  \\\n",
       "ParticipantID                                              \n",
       "003ADHDETWM             -0.490957              -0.873751   \n",
       "003ADHDETWM             -0.060831              -1.460183   \n",
       "003ADHDETWM              0.558789              -1.084811   \n",
       "003ADHDETWM             -0.085282              -1.131467   \n",
       "003ADHDETWM              0.317056              -0.540392   \n",
       "\n",
       "               PupilDiameterRight(mm)     Class  \n",
       "ParticipantID                                    \n",
       "003ADHDETWM                 -0.259639  Non-ADHD  \n",
       "003ADHDETWM                  0.096370  Non-ADHD  \n",
       "003ADHDETWM                  0.393743  Non-ADHD  \n",
       "003ADHDETWM                 -0.347129  Non-ADHD  \n",
       "003ADHDETWM                  0.291647  Non-ADHD  "
      ]
     },
     "execution_count": 332,
     "metadata": {},
     "output_type": "execute_result"
    }
   ],
   "source": [
    "train_features.head()"
   ]
  },
  {
   "cell_type": "code",
   "execution_count": 333,
   "metadata": {},
   "outputs": [
    {
     "data": {
      "text/plain": [
       "Gender                     0.0\n",
       "NumberOfFixations          0.0\n",
       "FixationDuration(ms)       0.0\n",
       "FixationDurationAvg(ms)    0.0\n",
       "FixationDurationStd(ms)    0.0\n",
       "NumberOfSaccades           0.0\n",
       "SaccadeDuration(ms)        0.0\n",
       "SaccadeDurationAvg(ms)     0.0\n",
       "SaccadesDurationStd(ms)    0.0\n",
       "GazePointX(ADCSpx)         0.0\n",
       "GazePointY(ADCSpx)         0.0\n",
       "PupilDiameterLeft(mm)      0.0\n",
       "PupilDiameterRight(mm)     0.0\n",
       "Class                      0.0\n",
       "dtype: float64"
      ]
     },
     "execution_count": 333,
     "metadata": {},
     "output_type": "execute_result"
    }
   ],
   "source": [
    "nn"
   ]
  },
  {
   "cell_type": "markdown",
   "metadata": {},
   "source": [
    "No missing values found"
   ]
  },
  {
   "cell_type": "code",
   "execution_count": 334,
   "metadata": {},
   "outputs": [
    {
     "data": {
      "text/plain": [
       "<matplotlib.text.Text at 0x23f3b4a080>"
      ]
     },
     "execution_count": 334,
     "metadata": {},
     "output_type": "execute_result"
    },
    {
     "data": {
      "image/png": "[encoded data removed]",
      "text/plain": [
       "<matplotlib.figure.Figure at 0x23f39dd4a8>"
      ]
     },
     "metadata": {},
     "output_type": "display_data"
    }
   ],
   "source": [
    "p=nn.plot.bar()\n",
    "p.set_xlabel('features')\n",
    "p.set_ylabel('percentage')"
   ]
  },
  {
   "cell_type": "code",
   "execution_count": 335,
   "metadata": {},
   "outputs": [],
   "source": [
    "train_features['Class']=pd.get_dummies(train_features['Class'],prefix='Class')\n",
    "train_features['Gender']=pd.get_dummies(train_features['Gender'],prefix='Gender')"
   ]
  },
  {
   "cell_type": "code",
   "execution_count": 336,
   "metadata": {},
   "outputs": [
    {
     "data": {
      "image/png": "[encoded data removed]",
      "text/plain": [
       "<matplotlib.figure.Figure at 0x23f39ddd30>"
      ]
     },
     "metadata": {},
     "output_type": "display_data"
    }
   ],
   "source": [
    "import seaborn as sns\n",
    "import matplotlib.pyplot as plt\n",
    "\n",
    "#plt.figure(figsize=(2,2))\n",
    "sns.heatmap(train_features.corr(),\n",
    "            vmin=-1,\n",
    "            cmap='Spectral',\n",
    "           xticklabels=True,\n",
    "           yticklabels=True);"
   ]
  },
  {
   "cell_type": "code",
   "execution_count": 337,
   "metadata": {},
   "outputs": [
    {
     "data": {
      "text/plain": [
       "<matplotlib.axes._subplots.AxesSubplot at 0x23f2629358>"
      ]
     },
     "execution_count": 337,
     "metadata": {},
     "output_type": "execute_result"
    },
    {
     "data": {
      "image/png": "[encoded data removed]",
      "text/plain": [
       "<matplotlib.figure.Figure at 0x23f25cf710>"
      ]
     },
     "metadata": {},
     "output_type": "display_data"
    }
   ],
   "source": [
    "train_features.corr().Class.drop('Class').sort_values(ascending=False).plot.barh(figsize=(10,8))"
   ]
  },
  {
   "cell_type": "markdown",
   "metadata": {},
   "source": [
    "train_features['GazePointY_rm']=train_features['GazePointY(ADCSpx)'].rolling(10).mean()\n",
    "train_features['GazePointY_rm'].fillna(0)"
   ]
  },
  {
   "cell_type": "markdown",
   "metadata": {},
   "source": [
    "train_features['GazePointX(ADCSpx)_binned']=pd.cut(train_features['GazePointX(ADCSpx)'],100)\n",
    "train_features['GazePointY(ADCSpx)_binned']=pd.cut(train_features['GazePointY(ADCSpx)'],100)\n",
    "\n",
    "s=train_features['GazePointY(ADCSpx)_binned']\n",
    "train_features['GazePointY(ADCSpx)_binned'] =[(a.left + a.right)/2 for a in s]\n",
    "s=train_features['GazePointX(ADCSpx)_binned']\n",
    "train_features['GazePointX(ADCSpx)_binned'] =[(a.left + a.right)/2 for a in s]"
   ]
  },
  {
   "cell_type": "markdown",
   "metadata": {},
   "source": [
    "train_features['GazePointY(ADCSpx)_binned']"
   ]
  },
  {
   "cell_type": "code",
   "execution_count": 338,
   "metadata": {},
   "outputs": [],
   "source": [
    "from sklearn.utils import shuffle\n",
    "\n",
    "train_features=shuffle(train_features)\n",
    "train_features_subtrain = train_features.head(800)\n",
    "train_features_subtest = train_features.tail(train_features.shape[0] - 800)"
   ]
  },
  {
   "cell_type": "code",
   "execution_count": 339,
   "metadata": {},
   "outputs": [
    {
     "data": {
      "image/png": "[encoded data removed]",
      "text/plain": [
       "<matplotlib.figure.Figure at 0x23f3be94e0>"
      ]
     },
     "metadata": {},
     "output_type": "display_data"
    }
   ],
   "source": [
    "plt.figure(figsize=(5,5))\n",
    "sns.heatmap(train_features.corr());"
   ]
  },
  {
   "cell_type": "code",
   "execution_count": 340,
   "metadata": {},
   "outputs": [
    {
     "data": {
      "text/plain": [
       "array([1, 0], dtype=uint64)"
      ]
     },
     "execution_count": 340,
     "metadata": {},
     "output_type": "execute_result"
    }
   ],
   "source": [
    "train_features_subtrain.Class.unique()"
   ]
  },
  {
   "cell_type": "code",
   "execution_count": 341,
   "metadata": {},
   "outputs": [
    {
     "data": {
      "text/plain": [
       "['Gender',\n",
       " 'NumberOfFixations',\n",
       " 'FixationDuration(ms)',\n",
       " 'FixationDurationAvg(ms)',\n",
       " 'FixationDurationStd(ms)',\n",
       " 'NumberOfSaccades',\n",
       " 'SaccadeDuration(ms)',\n",
       " 'SaccadeDurationAvg(ms)',\n",
       " 'SaccadesDurationStd(ms)',\n",
       " 'GazePointX(ADCSpx)',\n",
       " 'GazePointY(ADCSpx)',\n",
       " 'PupilDiameterLeft(mm)',\n",
       " 'PupilDiameterRight(mm)',\n",
       " 'Class']"
      ]
     },
     "execution_count": 341,
     "metadata": {},
     "output_type": "execute_result"
    }
   ],
   "source": [
    "list(train_features)"
   ]
  },
  {
   "cell_type": "code",
   "execution_count": 348,
   "metadata": {},
   "outputs": [],
   "source": [
    "from sklearn.model_selection import cross_val_score, GridSearchCV\n",
    "from sklearn.ensemble import RandomForestClassifier\n",
    "from sklearn.preprocessing import MinMaxScaler\n",
    "\n",
    "def get_rf_best_model(X,y):\n",
    "#     features=['Gender',\n",
    "#              'NumberOfFixations',\n",
    "#              'FixationDuration(ms)',\n",
    "#              'FixationDurationAvg(ms)',\n",
    "#              'FixationDurationStd(ms)',\n",
    "#              'NumberOfSaccades',\n",
    "#              'SaccadeDuration(ms)',\n",
    "#              'SaccadeDurationAvg(ms)',\n",
    "#              'SaccadesDurationStd(ms)',\n",
    "#              'PupilDiameterLeft(mm)',\n",
    "#              'PupilDiameterRight(mm)',\n",
    "#              'GazePointX(ADCSpx)_binned',\n",
    "#              'GazePointY(ADCSpx)_binned']\n",
    "#     X=X[features]\n",
    "    \n",
    "    # Perform Grid-Search\n",
    "    gsc = GridSearchCV(\n",
    "        estimator=RandomForestClassifier(),\n",
    "        param_grid={\n",
    "            'max_depth': range(3,7),\n",
    "            'n_estimators': (10, 50, 100, 1000),\n",
    "        },\n",
    "        cv=5, verbose=0,n_jobs=-1)\n",
    "    \n",
    "    grid_result = gsc.fit(X, y)\n",
    "    best_params = grid_result.best_params_\n",
    "    \n",
    "    rfr = RandomForestClassifier(max_depth=best_params[\"max_depth\"], n_estimators=best_params[\"n_estimators\"],random_state=False, verbose=False)\n",
    "#     rfr = RandomForestClassifier(n_jobs=2, random_state=0)\n",
    "    rfr=rfr.fit(X,y)\n",
    "    # Perform K-Fold CV\n",
    "    scores = cross_val_score(rfr, X, y, cv=10)\n",
    "    print(scores)\n",
    "    \n",
    "    print(\"Accuracy: \",scores.mean())\n",
    "    print(\"Accuracy std: \",scores.std())\n",
    "\n",
    "    return rfr\n",
    "    "
   ]
  },
  {
   "cell_type": "code",
   "execution_count": 349,
   "metadata": {},
   "outputs": [],
   "source": [
    "y_train=train_features_subtrain['Class']\n",
    "X_train=train_features_subtrain.drop('Class', axis=1)"
   ]
  },
  {
   "cell_type": "code",
   "execution_count": 350,
   "metadata": {},
   "outputs": [],
   "source": [
    "y_test=train_features_subtest['Class']\n",
    "X_test=train_features_subtest.drop('Class', axis=1)"
   ]
  },
  {
   "cell_type": "code",
   "execution_count": 351,
   "metadata": {},
   "outputs": [
    {
     "data": {
      "text/plain": [
       "Gender                     0\n",
       "NumberOfFixations          0\n",
       "FixationDuration(ms)       0\n",
       "FixationDurationAvg(ms)    0\n",
       "FixationDurationStd(ms)    0\n",
       "NumberOfSaccades           0\n",
       "SaccadeDuration(ms)        0\n",
       "SaccadeDurationAvg(ms)     0\n",
       "SaccadesDurationStd(ms)    0\n",
       "GazePointX(ADCSpx)         0\n",
       "GazePointY(ADCSpx)         0\n",
       "PupilDiameterLeft(mm)      0\n",
       "PupilDiameterRight(mm)     0\n",
       "dtype: int64"
      ]
     },
     "execution_count": 351,
     "metadata": {},
     "output_type": "execute_result"
    }
   ],
   "source": [
    "X_test.isnull().sum()"
   ]
  },
  {
   "cell_type": "code",
   "execution_count": 352,
   "metadata": {},
   "outputs": [
    {
     "name": "stdout",
     "output_type": "stream",
     "text": [
      "Number of mislabeled points out of a total 11668 points : 3845\n"
     ]
    }
   ],
   "source": [
    "from sklearn.naive_bayes import GaussianNB\n",
    "gnb = GaussianNB()\n",
    "y_pred = gnb.fit(X_train, y_train).predict(X_test)\n",
    "print(\"Number of mislabeled points out of a total %d points : %d\" % (y_test.shape[0],(y_test != y_pred).sum()))"
   ]
  },
  {
   "cell_type": "code",
   "execution_count": 353,
   "metadata": {},
   "outputs": [
    {
     "name": "stdout",
     "output_type": "stream",
     "text": [
      "[0.7654321  0.7654321  0.79012346 0.82716049 0.7625     0.7625\n",
      " 0.75949367 0.81012658 0.81012658 0.75949367]\n",
      "Accuracy:  0.7812388654477262\n",
      "Accuracy std:  0.02450395306722775\n"
     ]
    }
   ],
   "source": [
    "model2=get_rf_best_model(X_train,y_train)\n",
    "#iq_model2=get_rf_best_model(iq_x,iq_y)"
   ]
  },
  {
   "cell_type": "code",
   "execution_count": 354,
   "metadata": {},
   "outputs": [
    {
     "data": {
      "text/plain": [
       "array([[<matplotlib.axes._subplots.AxesSubplot object at 0x00000023EFDDDF98>]],\n",
       "      dtype=object)"
      ]
     },
     "execution_count": 354,
     "metadata": {},
     "output_type": "execute_result"
    },
    {
     "data": {
      "image/png": "[encoded data removed]",
      "text/plain": [
       "<matplotlib.figure.Figure at 0x23f3a14208>"
      ]
     },
     "metadata": {},
     "output_type": "display_data"
    }
   ],
   "source": [
    "train_features_subtrain.hist(column='GazePointX(ADCSpx)')"
   ]
  },
  {
   "cell_type": "code",
   "execution_count": 355,
   "metadata": {},
   "outputs": [
    {
     "data": {
      "text/plain": [
       "array([[<matplotlib.axes._subplots.AxesSubplot object at 0x00000023F2636780>]],\n",
       "      dtype=object)"
      ]
     },
     "execution_count": 355,
     "metadata": {},
     "output_type": "execute_result"
    },
    {
     "data": {
      "image/png": "[encoded data removed]",
      "text/plain": [
       "<matplotlib.figure.Figure at 0x23f2418320>"
      ]
     },
     "metadata": {},
     "output_type": "display_data"
    }
   ],
   "source": [
    "train_features_subtrain.hist(column='GazePointY(ADCSpx)')"
   ]
  },
  {
   "cell_type": "code",
   "execution_count": 356,
   "metadata": {},
   "outputs": [],
   "source": [
    "predictions = model2.predict(X_test)"
   ]
  },
  {
   "cell_type": "code",
   "execution_count": 357,
   "metadata": {},
   "outputs": [
    {
     "data": {
      "text/plain": [
       "array([0, 1, 1, ..., 0, 1, 0], dtype=uint8)"
      ]
     },
     "execution_count": 357,
     "metadata": {},
     "output_type": "execute_result"
    }
   ],
   "source": [
    "predictions"
   ]
  },
  {
   "cell_type": "code",
   "execution_count": 358,
   "metadata": {},
   "outputs": [
    {
     "data": {
      "text/html": [
       "<div>\n",
       "<style scoped>\n",
       "    .dataframe tbody tr th:only-of-type {\n",
       "        vertical-align: middle;\n",
       "    }\n",
       "\n",
       "    .dataframe tbody tr th {\n",
       "        vertical-align: top;\n",
       "    }\n",
       "\n",
       "    .dataframe thead th {\n",
       "        text-align: right;\n",
       "    }\n",
       "</style>\n",
       "<table border=\"1\" class=\"dataframe\">\n",
       "  <thead>\n",
       "    <tr style=\"text-align: right;\">\n",
       "      <th>Predicted Result</th>\n",
       "      <th>0</th>\n",
       "      <th>1</th>\n",
       "    </tr>\n",
       "    <tr>\n",
       "      <th>Actual Result</th>\n",
       "      <th></th>\n",
       "      <th></th>\n",
       "    </tr>\n",
       "  </thead>\n",
       "  <tbody>\n",
       "    <tr>\n",
       "      <th>0</th>\n",
       "      <td>3492</td>\n",
       "      <td>1638</td>\n",
       "    </tr>\n",
       "    <tr>\n",
       "      <th>1</th>\n",
       "      <td>1000</td>\n",
       "      <td>5538</td>\n",
       "    </tr>\n",
       "  </tbody>\n",
       "</table>\n",
       "</div>"
      ],
      "text/plain": [
       "Predicted Result     0     1\n",
       "Actual Result               \n",
       "0                 3492  1638\n",
       "1                 1000  5538"
      ]
     },
     "execution_count": 358,
     "metadata": {},
     "output_type": "execute_result"
    }
   ],
   "source": [
    "pd.crosstab(y_test, predictions, rownames=['Actual Result'], colnames=['Predicted Result'])"
   ]
  },
  {
   "cell_type": "code",
   "execution_count": 359,
   "metadata": {},
   "outputs": [
    {
     "data": {
      "text/plain": [
       "[('Gender', 0.14332702285932197),\n",
       " ('NumberOfFixations', 0.03066861314911196),\n",
       " ('FixationDuration(ms)', 0.035339636625707924),\n",
       " ('FixationDurationAvg(ms)', 0.02944566265446152),\n",
       " ('FixationDurationStd(ms)', 0.02037585450180125),\n",
       " ('NumberOfSaccades', 0.023276573726306853),\n",
       " ('SaccadeDuration(ms)', 0.030843332863981346),\n",
       " ('SaccadeDurationAvg(ms)', 0.02880857354743819),\n",
       " ('SaccadesDurationStd(ms)', 0.01969615550289332),\n",
       " ('GazePointX(ADCSpx)', 0.16081355335342867),\n",
       " ('GazePointY(ADCSpx)', 0.2519561267258446),\n",
       " ('PupilDiameterLeft(mm)', 0.085396662495979),\n",
       " ('PupilDiameterRight(mm)', 0.14005223199372327)]"
      ]
     },
     "execution_count": 359,
     "metadata": {},
     "output_type": "execute_result"
    }
   ],
   "source": [
    "list(zip(X_train, model2.feature_importances_))"
   ]
  },
  {
   "cell_type": "code",
   "execution_count": 360,
   "metadata": {},
   "outputs": [
    {
     "data": {
      "text/plain": [
       "0.7398868700719917"
      ]
     },
     "execution_count": 360,
     "metadata": {},
     "output_type": "execute_result"
    }
   ],
   "source": [
    "from sklearn.ensemble import AdaBoostClassifier\n",
    "model3 = AdaBoostClassifier()\n",
    "model3.fit(X_train, y_train)\n",
    "model3.score(X_test,y_test)"
   ]
  },
  {
   "cell_type": "code",
   "execution_count": 361,
   "metadata": {},
   "outputs": [],
   "source": [
    "predictions = model3.predict(X_test)"
   ]
  },
  {
   "cell_type": "code",
   "execution_count": 362,
   "metadata": {},
   "outputs": [
    {
     "data": {
      "text/html": [
       "<div>\n",
       "<style scoped>\n",
       "    .dataframe tbody tr th:only-of-type {\n",
       "        vertical-align: middle;\n",
       "    }\n",
       "\n",
       "    .dataframe tbody tr th {\n",
       "        vertical-align: top;\n",
       "    }\n",
       "\n",
       "    .dataframe thead th {\n",
       "        text-align: right;\n",
       "    }\n",
       "</style>\n",
       "<table border=\"1\" class=\"dataframe\">\n",
       "  <thead>\n",
       "    <tr style=\"text-align: right;\">\n",
       "      <th>Predicted Result</th>\n",
       "      <th>0</th>\n",
       "      <th>1</th>\n",
       "    </tr>\n",
       "    <tr>\n",
       "      <th>Actual Result</th>\n",
       "      <th></th>\n",
       "      <th></th>\n",
       "    </tr>\n",
       "  </thead>\n",
       "  <tbody>\n",
       "    <tr>\n",
       "      <th>0</th>\n",
       "      <td>3636</td>\n",
       "      <td>1494</td>\n",
       "    </tr>\n",
       "    <tr>\n",
       "      <th>1</th>\n",
       "      <td>1541</td>\n",
       "      <td>4997</td>\n",
       "    </tr>\n",
       "  </tbody>\n",
       "</table>\n",
       "</div>"
      ],
      "text/plain": [
       "Predicted Result     0     1\n",
       "Actual Result               \n",
       "0                 3636  1494\n",
       "1                 1541  4997"
      ]
     },
     "execution_count": 362,
     "metadata": {},
     "output_type": "execute_result"
    }
   ],
   "source": [
    "pd.crosstab(y_test, predictions, rownames=['Actual Result'], colnames=['Predicted Result'])"
   ]
  },
  {
   "cell_type": "code",
   "execution_count": 363,
   "metadata": {},
   "outputs": [
    {
     "name": "stdout",
     "output_type": "stream",
     "text": [
      "0.8099999999999999\n"
     ]
    }
   ],
   "source": [
    "from sklearn import model_selection\n",
    "from sklearn.ensemble import BaggingClassifier\n",
    "from sklearn.tree import DecisionTreeClassifier\n",
    "seed = 7\n",
    "kfold = model_selection.KFold(n_splits=10, random_state=seed)\n",
    "cart = DecisionTreeClassifier()\n",
    "num_trees = 100\n",
    "model = BaggingClassifier(base_estimator=cart, n_estimators=num_trees, random_state=seed)\n",
    "results = model_selection.cross_val_score(model, X_train, y_train, cv=kfold)\n",
    "print(results.mean())"
   ]
  },
  {
   "cell_type": "code",
   "execution_count": 401,
   "metadata": {},
   "outputs": [
    {
     "name": "stdout",
     "output_type": "stream",
     "text": [
      "0.8175000000000001\n"
     ]
    }
   ],
   "source": [
    "import pandas\n",
    "from sklearn import model_selection\n",
    "from sklearn.linear_model import LogisticRegression\n",
    "from sklearn.tree import DecisionTreeClassifier\n",
    "from sklearn.svm import SVC\n",
    "from sklearn.ensemble import VotingClassifier\n",
    "from sklearn.ensemble import GradientBoostingClassifier\n",
    "seed = 7\n",
    "kfold = model_selection.KFold(n_splits=10, random_state=seed)\n",
    "# create the sub models\n",
    "estimators = []\n",
    "model1 = AdaBoostClassifier(learning_rate=0.8001,random_state=20)\n",
    "estimators.append(('adaboost', model1))\n",
    "model2 = DecisionTreeClassifier(max_depth=7,random_state=9)\n",
    "estimators.append(('cart', model2))\n",
    "model3 = SVC(probability=True)\n",
    "estimators.append(('svm', model3))\n",
    "model4 = RandomForestClassifier(n_estimators =25,random_state=1,max_depth=50)\n",
    "estimators.append(('randomforest', model4))\n",
    "model5= GradientBoostingClassifier(learning_rate=0.1,random_state=6)\n",
    "estimators.append(('gradientboost', model5))\n",
    "model6 = BaggingClassifier(base_estimator=cart, n_estimators=num_trees, random_state=seed)\n",
    "estimators.append(('bagging', model6))\n",
    "\n",
    "# create the ensemble model\n",
    "ensemble = VotingClassifier(estimators,voting='soft')\n",
    "results = model_selection.cross_val_score(ensemble, X_train, y_train, cv=kfold)\n",
    "print(results.mean())"
   ]
  },
  {
   "cell_type": "code",
   "execution_count": 404,
   "metadata": {},
   "outputs": [
    {
     "data": {
      "text/plain": [
       "['eye_movement_ensembled.pkl']"
      ]
     },
     "execution_count": 404,
     "metadata": {},
     "output_type": "execute_result"
    }
   ],
   "source": [
    "import pickle\n",
    "from sklearn.externals import joblib\n",
    "\n",
    "ensemble.fit(X_train,y_train)\n",
    "joblib.dump(ensemble, 'eye_movement_ensembled.pkl') "
   ]
  },
  {
   "cell_type": "code",
   "execution_count": 409,
   "metadata": {},
   "outputs": [
    {
     "data": {
      "text/plain": [
       "1"
      ]
     },
     "execution_count": 409,
     "metadata": {},
     "output_type": "execute_result"
    }
   ],
   "source": [
    "predict_data=pd.read_csv('test_data_nadhd.csv',index_col=[0])\n",
    "predict_data['Gender']=pd.get_dummies(predict_data['Gender'],prefix='Gender')\n",
    "\n",
    "clf_from_joblib = joblib.load('eye_movement_ensembled.pkl') \n",
    "predictions=clf_from_joblib.predict(predict_data)\n",
    "counts = np.bincount(predictions)\n",
    "np.argmax(counts)"
   ]
  },
  {
   "cell_type": "code",
   "execution_count": 392,
   "metadata": {},
   "outputs": [
    {
     "data": {
      "text/plain": [
       "0.6704662324305793"
      ]
     },
     "execution_count": 392,
     "metadata": {},
     "output_type": "execute_result"
    }
   ],
   "source": [
    "model= GaussianNB()\n",
    "model.fit(X_train, y_train)\n",
    "model.score(X_test,y_test)"
   ]
  },
  {
   "cell_type": "code",
   "execution_count": 377,
   "metadata": {},
   "outputs": [
    {
     "ename": "KeyboardInterrupt",
     "evalue": "",
     "output_type": "error",
     "traceback": [
      "\u001b[1;31m---------------------------------------------------------------------------\u001b[0m",
      "\u001b[1;31mKeyboardInterrupt\u001b[0m                         Traceback (most recent call last)",
      "\u001b[1;32m<ipython-input-377-bb5f606b91e7>\u001b[0m in \u001b[0;36m<module>\u001b[1;34m()\u001b[0m\n\u001b[0;32m      9\u001b[0m     cv=5, verbose=0,n_jobs=-1)\n\u001b[0;32m     10\u001b[0m \u001b[1;33m\u001b[0m\u001b[0m\n\u001b[1;32m---> 11\u001b[1;33m \u001b[0mgrid_result\u001b[0m \u001b[1;33m=\u001b[0m \u001b[0mgsc\u001b[0m\u001b[1;33m.\u001b[0m\u001b[0mfit\u001b[0m\u001b[1;33m(\u001b[0m\u001b[0mX_train\u001b[0m\u001b[1;33m,\u001b[0m \u001b[0my_train\u001b[0m\u001b[1;33m)\u001b[0m\u001b[1;33m\u001b[0m\u001b[0m\n\u001b[0m\u001b[0;32m     12\u001b[0m \u001b[0mbest_params\u001b[0m \u001b[1;33m=\u001b[0m \u001b[0mgrid_result\u001b[0m\u001b[1;33m.\u001b[0m\u001b[0mbest_params_\u001b[0m\u001b[1;33m\u001b[0m\u001b[0m\n",
      "\u001b[1;32m~\\Anaconda2\\envs\\fmriDataAnalysisEnv\\lib\\site-packages\\sklearn\\model_selection\\_search.py\u001b[0m in \u001b[0;36mfit\u001b[1;34m(self, X, y, groups, **fit_params)\u001b[0m\n\u001b[0;32m    637\u001b[0m                                   error_score=self.error_score)\n\u001b[0;32m    638\u001b[0m           for parameters, (train, test) in product(candidate_params,\n\u001b[1;32m--> 639\u001b[1;33m                                                    cv.split(X, y, groups)))\n\u001b[0m\u001b[0;32m    640\u001b[0m \u001b[1;33m\u001b[0m\u001b[0m\n\u001b[0;32m    641\u001b[0m         \u001b[1;31m# if one choose to see train score, \"out\" will contain train score info\u001b[0m\u001b[1;33m\u001b[0m\u001b[1;33m\u001b[0m\u001b[0m\n",
      "\u001b[1;32m~\\Anaconda2\\envs\\fmriDataAnalysisEnv\\lib\\site-packages\\sklearn\\externals\\joblib\\parallel.py\u001b[0m in \u001b[0;36m__call__\u001b[1;34m(self, iterable)\u001b[0m\n\u001b[0;32m    787\u001b[0m                 \u001b[1;31m# consumption.\u001b[0m\u001b[1;33m\u001b[0m\u001b[1;33m\u001b[0m\u001b[0m\n\u001b[0;32m    788\u001b[0m                 \u001b[0mself\u001b[0m\u001b[1;33m.\u001b[0m\u001b[0m_iterating\u001b[0m \u001b[1;33m=\u001b[0m \u001b[1;32mFalse\u001b[0m\u001b[1;33m\u001b[0m\u001b[0m\n\u001b[1;32m--> 789\u001b[1;33m             \u001b[0mself\u001b[0m\u001b[1;33m.\u001b[0m\u001b[0mretrieve\u001b[0m\u001b[1;33m(\u001b[0m\u001b[1;33m)\u001b[0m\u001b[1;33m\u001b[0m\u001b[0m\n\u001b[0m\u001b[0;32m    790\u001b[0m             \u001b[1;31m# Make sure that we get a last message telling us we are done\u001b[0m\u001b[1;33m\u001b[0m\u001b[1;33m\u001b[0m\u001b[0m\n\u001b[0;32m    791\u001b[0m             \u001b[0melapsed_time\u001b[0m \u001b[1;33m=\u001b[0m \u001b[0mtime\u001b[0m\u001b[1;33m.\u001b[0m\u001b[0mtime\u001b[0m\u001b[1;33m(\u001b[0m\u001b[1;33m)\u001b[0m \u001b[1;33m-\u001b[0m \u001b[0mself\u001b[0m\u001b[1;33m.\u001b[0m\u001b[0m_start_time\u001b[0m\u001b[1;33m\u001b[0m\u001b[0m\n",
      "\u001b[1;32m~\\Anaconda2\\envs\\fmriDataAnalysisEnv\\lib\\site-packages\\sklearn\\externals\\joblib\\parallel.py\u001b[0m in \u001b[0;36mretrieve\u001b[1;34m(self)\u001b[0m\n\u001b[0;32m    697\u001b[0m             \u001b[1;32mtry\u001b[0m\u001b[1;33m:\u001b[0m\u001b[1;33m\u001b[0m\u001b[0m\n\u001b[0;32m    698\u001b[0m                 \u001b[1;32mif\u001b[0m \u001b[0mgetattr\u001b[0m\u001b[1;33m(\u001b[0m\u001b[0mself\u001b[0m\u001b[1;33m.\u001b[0m\u001b[0m_backend\u001b[0m\u001b[1;33m,\u001b[0m \u001b[1;34m'supports_timeout'\u001b[0m\u001b[1;33m,\u001b[0m \u001b[1;32mFalse\u001b[0m\u001b[1;33m)\u001b[0m\u001b[1;33m:\u001b[0m\u001b[1;33m\u001b[0m\u001b[0m\n\u001b[1;32m--> 699\u001b[1;33m                     \u001b[0mself\u001b[0m\u001b[1;33m.\u001b[0m\u001b[0m_output\u001b[0m\u001b[1;33m.\u001b[0m\u001b[0mextend\u001b[0m\u001b[1;33m(\u001b[0m\u001b[0mjob\u001b[0m\u001b[1;33m.\u001b[0m\u001b[0mget\u001b[0m\u001b[1;33m(\u001b[0m\u001b[0mtimeout\u001b[0m\u001b[1;33m=\u001b[0m\u001b[0mself\u001b[0m\u001b[1;33m.\u001b[0m\u001b[0mtimeout\u001b[0m\u001b[1;33m)\u001b[0m\u001b[1;33m)\u001b[0m\u001b[1;33m\u001b[0m\u001b[0m\n\u001b[0m\u001b[0;32m    700\u001b[0m                 \u001b[1;32melse\u001b[0m\u001b[1;33m:\u001b[0m\u001b[1;33m\u001b[0m\u001b[0m\n\u001b[0;32m    701\u001b[0m                     \u001b[0mself\u001b[0m\u001b[1;33m.\u001b[0m\u001b[0m_output\u001b[0m\u001b[1;33m.\u001b[0m\u001b[0mextend\u001b[0m\u001b[1;33m(\u001b[0m\u001b[0mjob\u001b[0m\u001b[1;33m.\u001b[0m\u001b[0mget\u001b[0m\u001b[1;33m(\u001b[0m\u001b[1;33m)\u001b[0m\u001b[1;33m)\u001b[0m\u001b[1;33m\u001b[0m\u001b[0m\n",
      "\u001b[1;32m~\\Anaconda2\\envs\\fmriDataAnalysisEnv\\lib\\multiprocessing\\pool.py\u001b[0m in \u001b[0;36mget\u001b[1;34m(self, timeout)\u001b[0m\n\u001b[0;32m    636\u001b[0m \u001b[1;33m\u001b[0m\u001b[0m\n\u001b[0;32m    637\u001b[0m     \u001b[1;32mdef\u001b[0m \u001b[0mget\u001b[0m\u001b[1;33m(\u001b[0m\u001b[0mself\u001b[0m\u001b[1;33m,\u001b[0m \u001b[0mtimeout\u001b[0m\u001b[1;33m=\u001b[0m\u001b[1;32mNone\u001b[0m\u001b[1;33m)\u001b[0m\u001b[1;33m:\u001b[0m\u001b[1;33m\u001b[0m\u001b[0m\n\u001b[1;32m--> 638\u001b[1;33m         \u001b[0mself\u001b[0m\u001b[1;33m.\u001b[0m\u001b[0mwait\u001b[0m\u001b[1;33m(\u001b[0m\u001b[0mtimeout\u001b[0m\u001b[1;33m)\u001b[0m\u001b[1;33m\u001b[0m\u001b[0m\n\u001b[0m\u001b[0;32m    639\u001b[0m         \u001b[1;32mif\u001b[0m \u001b[1;32mnot\u001b[0m \u001b[0mself\u001b[0m\u001b[1;33m.\u001b[0m\u001b[0mready\u001b[0m\u001b[1;33m(\u001b[0m\u001b[1;33m)\u001b[0m\u001b[1;33m:\u001b[0m\u001b[1;33m\u001b[0m\u001b[0m\n\u001b[0;32m    640\u001b[0m             \u001b[1;32mraise\u001b[0m \u001b[0mTimeoutError\u001b[0m\u001b[1;33m\u001b[0m\u001b[0m\n",
      "\u001b[1;32m~\\Anaconda2\\envs\\fmriDataAnalysisEnv\\lib\\multiprocessing\\pool.py\u001b[0m in \u001b[0;36mwait\u001b[1;34m(self, timeout)\u001b[0m\n\u001b[0;32m    633\u001b[0m \u001b[1;33m\u001b[0m\u001b[0m\n\u001b[0;32m    634\u001b[0m     \u001b[1;32mdef\u001b[0m \u001b[0mwait\u001b[0m\u001b[1;33m(\u001b[0m\u001b[0mself\u001b[0m\u001b[1;33m,\u001b[0m \u001b[0mtimeout\u001b[0m\u001b[1;33m=\u001b[0m\u001b[1;32mNone\u001b[0m\u001b[1;33m)\u001b[0m\u001b[1;33m:\u001b[0m\u001b[1;33m\u001b[0m\u001b[0m\n\u001b[1;32m--> 635\u001b[1;33m         \u001b[0mself\u001b[0m\u001b[1;33m.\u001b[0m\u001b[0m_event\u001b[0m\u001b[1;33m.\u001b[0m\u001b[0mwait\u001b[0m\u001b[1;33m(\u001b[0m\u001b[0mtimeout\u001b[0m\u001b[1;33m)\u001b[0m\u001b[1;33m\u001b[0m\u001b[0m\n\u001b[0m\u001b[0;32m    636\u001b[0m \u001b[1;33m\u001b[0m\u001b[0m\n\u001b[0;32m    637\u001b[0m     \u001b[1;32mdef\u001b[0m \u001b[0mget\u001b[0m\u001b[1;33m(\u001b[0m\u001b[0mself\u001b[0m\u001b[1;33m,\u001b[0m \u001b[0mtimeout\u001b[0m\u001b[1;33m=\u001b[0m\u001b[1;32mNone\u001b[0m\u001b[1;33m)\u001b[0m\u001b[1;33m:\u001b[0m\u001b[1;33m\u001b[0m\u001b[0m\n",
      "\u001b[1;32m~\\Anaconda2\\envs\\fmriDataAnalysisEnv\\lib\\threading.py\u001b[0m in \u001b[0;36mwait\u001b[1;34m(self, timeout)\u001b[0m\n\u001b[0;32m    547\u001b[0m             \u001b[0msignaled\u001b[0m \u001b[1;33m=\u001b[0m \u001b[0mself\u001b[0m\u001b[1;33m.\u001b[0m\u001b[0m_flag\u001b[0m\u001b[1;33m\u001b[0m\u001b[0m\n\u001b[0;32m    548\u001b[0m             \u001b[1;32mif\u001b[0m \u001b[1;32mnot\u001b[0m \u001b[0msignaled\u001b[0m\u001b[1;33m:\u001b[0m\u001b[1;33m\u001b[0m\u001b[0m\n\u001b[1;32m--> 549\u001b[1;33m                 \u001b[0msignaled\u001b[0m \u001b[1;33m=\u001b[0m \u001b[0mself\u001b[0m\u001b[1;33m.\u001b[0m\u001b[0m_cond\u001b[0m\u001b[1;33m.\u001b[0m\u001b[0mwait\u001b[0m\u001b[1;33m(\u001b[0m\u001b[0mtimeout\u001b[0m\u001b[1;33m)\u001b[0m\u001b[1;33m\u001b[0m\u001b[0m\n\u001b[0m\u001b[0;32m    550\u001b[0m             \u001b[1;32mreturn\u001b[0m \u001b[0msignaled\u001b[0m\u001b[1;33m\u001b[0m\u001b[0m\n\u001b[0;32m    551\u001b[0m \u001b[1;33m\u001b[0m\u001b[0m\n",
      "\u001b[1;32m~\\Anaconda2\\envs\\fmriDataAnalysisEnv\\lib\\threading.py\u001b[0m in \u001b[0;36mwait\u001b[1;34m(self, timeout)\u001b[0m\n\u001b[0;32m    291\u001b[0m         \u001b[1;32mtry\u001b[0m\u001b[1;33m:\u001b[0m    \u001b[1;31m# restore state no matter what (e.g., KeyboardInterrupt)\u001b[0m\u001b[1;33m\u001b[0m\u001b[0m\n\u001b[0;32m    292\u001b[0m             \u001b[1;32mif\u001b[0m \u001b[0mtimeout\u001b[0m \u001b[1;32mis\u001b[0m \u001b[1;32mNone\u001b[0m\u001b[1;33m:\u001b[0m\u001b[1;33m\u001b[0m\u001b[0m\n\u001b[1;32m--> 293\u001b[1;33m                 \u001b[0mwaiter\u001b[0m\u001b[1;33m.\u001b[0m\u001b[0macquire\u001b[0m\u001b[1;33m(\u001b[0m\u001b[1;33m)\u001b[0m\u001b[1;33m\u001b[0m\u001b[0m\n\u001b[0m\u001b[0;32m    294\u001b[0m                 \u001b[0mgotit\u001b[0m \u001b[1;33m=\u001b[0m \u001b[1;32mTrue\u001b[0m\u001b[1;33m\u001b[0m\u001b[0m\n\u001b[0;32m    295\u001b[0m             \u001b[1;32melse\u001b[0m\u001b[1;33m:\u001b[0m\u001b[1;33m\u001b[0m\u001b[0m\n",
      "\u001b[1;31mKeyboardInterrupt\u001b[0m: "
     ]
    }
   ],
   "source": [
    "# Perform Grid-Search\n",
    "gsc = GridSearchCV(\n",
    "    estimator=RandomForestClassifier(),\n",
    "    param_grid={\n",
    "        'max_depth':range(1, 10),\n",
    "        'random_state': range(1, 10),\n",
    "        'n_estimators': range(1, 10),\n",
    "    },\n",
    "    cv=5, verbose=0,n_jobs=-1)\n",
    "\n",
    "grid_result = gsc.fit(X_train, y_train)\n",
    "best_params = grid_result.best_params_"
   ]
  },
  {
   "cell_type": "code",
   "execution_count": 367,
   "metadata": {},
   "outputs": [
    {
     "data": {
      "text/plain": [
       "0.7620843332190607"
      ]
     },
     "execution_count": 367,
     "metadata": {},
     "output_type": "execute_result"
    }
   ],
   "source": [
    "model= DecisionTreeClassifier(max_depth=7,random_state=9)\n",
    "model.fit(X_train, y_train)\n",
    "model.score(X_test,y_test)"
   ]
  },
  {
   "cell_type": "code",
   "execution_count": 368,
   "metadata": {},
   "outputs": [
    {
     "data": {
      "text/plain": [
       "5"
      ]
     },
     "execution_count": 368,
     "metadata": {},
     "output_type": "execute_result"
    }
   ],
   "source": [
    "best_params[\"max_depth\"]"
   ]
  },
  {
   "cell_type": "code",
   "execution_count": 369,
   "metadata": {},
   "outputs": [
    {
     "data": {
      "text/plain": [
       "7"
      ]
     },
     "execution_count": 369,
     "metadata": {},
     "output_type": "execute_result"
    }
   ],
   "source": [
    "best_params[\"random_state\"]"
   ]
  },
  {
   "cell_type": "code",
   "execution_count": null,
   "metadata": {},
   "outputs": [],
   "source": []
  }
 ],
 "metadata": {
  "kernelspec": {
   "display_name": "Python 3",
   "language": "python",
   "name": "python3"
  },
  "language_info": {
   "codemirror_mode": {
    "name": "ipython",
    "version": 3
   },
   "file_extension": ".py",
   "mimetype": "text/x-python",
   "name": "python",
   "nbconvert_exporter": "python",
   "pygments_lexer": "ipython3",
   "version": "3.5.5"
  }
 },
 "nbformat": 4,
 "nbformat_minor": 2
}
